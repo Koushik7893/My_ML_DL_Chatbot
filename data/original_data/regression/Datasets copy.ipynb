{
 "cells": [
  {
   "cell_type": "code",
   "execution_count": 140,
   "metadata": {},
   "outputs": [],
   "source": [
    "import numpy as np\n",
    "import pandas as pd\n",
    "import matplotlib.pyplot as plt\n",
    "import seaborn as sns\n",
    "import os\n",
    "import sklearn as skl\n",
    "from sklearn.model_selection import train_test_split\n",
    "from sklearn.preprocessing import OneHotEncoder, StandardScaler, OrdinalEncoder\n",
    "from sklearn.compose import ColumnTransformer\n",
    "from sklearn.impute import SimpleImputer\n",
    "import warnings\n",
    "warnings.filterwarnings('ignore')"
   ]
  },
  {
   "cell_type": "markdown",
   "metadata": {},
   "source": [
    "### Human Age Dataset"
   ]
  },
  {
   "cell_type": "code",
   "execution_count": 141,
   "metadata": {},
   "outputs": [
    {
     "name": "stdout",
     "output_type": "stream",
     "text": [
      "<class 'pandas.core.frame.DataFrame'>\n",
      "RangeIndex: 3000 entries, 0 to 2999\n",
      "Data columns (total 26 columns):\n",
      " #   Column                       Non-Null Count  Dtype  \n",
      "---  ------                       --------------  -----  \n",
      " 0   Gender                       3000 non-null   object \n",
      " 1   Height (cm)                  3000 non-null   float64\n",
      " 2   Weight (kg)                  3000 non-null   float64\n",
      " 3   Blood Pressure (s/d)         3000 non-null   object \n",
      " 4   Cholesterol Level (mg/dL)    3000 non-null   float64\n",
      " 5   BMI                          3000 non-null   float64\n",
      " 6   Blood Glucose Level (mg/dL)  3000 non-null   float64\n",
      " 7   Bone Density (g/cm²)         3000 non-null   float64\n",
      " 8   Vision Sharpness             3000 non-null   float64\n",
      " 9   Hearing Ability (dB)         3000 non-null   float64\n",
      " 10  Physical Activity Level      3000 non-null   object \n",
      " 11  Smoking Status               3000 non-null   object \n",
      " 12  Alcohol Consumption          1799 non-null   object \n",
      " 13  Diet                         3000 non-null   object \n",
      " 14  Chronic Diseases             1701 non-null   object \n",
      " 15  Medication Use               1802 non-null   object \n",
      " 16  Family History               1549 non-null   object \n",
      " 17  Cognitive Function           3000 non-null   float64\n",
      " 18  Mental Health Status         3000 non-null   object \n",
      " 19  Sleep Patterns               3000 non-null   object \n",
      " 20  Stress Levels                3000 non-null   float64\n",
      " 21  Pollution Exposure           3000 non-null   float64\n",
      " 22  Sun Exposure                 3000 non-null   float64\n",
      " 23  Education Level              2373 non-null   object \n",
      " 24  Income Level                 3000 non-null   object \n",
      " 25  Age (years)                  3000 non-null   int64  \n",
      "dtypes: float64(12), int64(1), object(13)\n",
      "memory usage: 609.5+ KB\n"
     ]
    }
   ],
   "source": [
    "age = pd.read_csv('Human_age_pred/Train.csv')\n",
    "age.info()"
   ]
  },
  {
   "cell_type": "code",
   "execution_count": 142,
   "metadata": {},
   "outputs": [
    {
     "data": {
      "text/plain": [
       "0"
      ]
     },
     "execution_count": 142,
     "metadata": {},
     "output_type": "execute_result"
    }
   ],
   "source": [
    "age.duplicated().sum()"
   ]
  },
  {
   "cell_type": "code",
   "execution_count": 143,
   "metadata": {},
   "outputs": [],
   "source": [
    "age.rename(columns={'Age (years)':'Target'},inplace=True)"
   ]
  },
  {
   "cell_type": "code",
   "execution_count": 144,
   "metadata": {},
   "outputs": [],
   "source": [
    "age[['Blood Pressure (sys)','Blood Pressure (dia)']] = age['Blood Pressure (s/d)'].str.split('/',expand=True)"
   ]
  },
  {
   "cell_type": "code",
   "execution_count": 145,
   "metadata": {},
   "outputs": [],
   "source": [
    "age.drop(columns=['Blood Pressure (s/d)','Family History'], inplace=True)"
   ]
  },
  {
   "cell_type": "code",
   "execution_count": 146,
   "metadata": {},
   "outputs": [
    {
     "name": "stdout",
     "output_type": "stream",
     "text": [
      "('Gender', {'Female': 1511, 'Male': 1489})\n",
      "('Physical Activity Level', {'Moderate': 1407, 'Low': 902, 'High': 691})\n",
      "('Smoking Status', {'Former': 1181, 'Never': 1026, 'Current': 793})\n",
      "('Alcohol Consumption', {'Occasional': 1057, 'Frequent': 742})\n",
      "('Diet', {'Balanced': 1183, 'High-fat': 662, 'Low-carb': 605, 'Vegetarian': 550})\n",
      "('Chronic Diseases', {'Hypertension': 676, 'Diabetes': 532, 'Heart Disease': 493})\n",
      "('Medication Use', {'Regular': 1063, 'Occasional': 739})\n",
      "('Mental Health Status', {'Good': 1073, 'Fair': 1009, 'Poor': 479, 'Excellent': 439})\n",
      "('Sleep Patterns', {'Normal': 1519, 'Insomnia': 1053, 'Excessive': 428})\n",
      "('Education Level', {'Undergraduate': 884, 'High School': 883, 'Postgraduate': 606})\n",
      "('Income Level', {'Medium': 1223, 'Low': 916, 'High': 861})\n",
      "('Blood Pressure (sys)', {'137': 85, '149': 82, '134': 79, '147': 78, '140': 76, '144': 76, '136': 73, '151': 73, '146': 70, '142': 69, '152': 68, '135': 67, '154': 65, '141': 64, '148': 64, '139': 62, '143': 61, '159': 61, '138': 60, '158': 60, '153': 59, '145': 58, '156': 58, '150': 57, '160': 55, '155': 54, '128': 54, '161': 52, '132': 50, '133': 50, '157': 49, '164': 49, '129': 45, '165': 42, '162': 39, '131': 39, '166': 39, '130': 38, '127': 38, '125': 37, '163': 36, '126': 36, '167': 35, '122': 31, '171': 30, '169': 29, '121': 27, '123': 27, '173': 26, '170': 23, '124': 22, '168': 21, '178': 20, '172': 19, '119': 18, '176': 17, '174': 16, '177': 16, '116': 15, '175': 14, '113': 14, '120': 14, '118': 13, '117': 12, '115': 10, '109': 9, '110': 9, '183': 8, '179': 8, '182': 7, '114': 6, '111': 5, '180': 5, '108': 5, '181': 5, '105': 4, '187': 4, '106': 4, '103': 4, '185': 3, '188': 3, '112': 2, '107': 2, '190': 2, '184': 2, '186': 2, '101': 1, '97': 1, '193': 1, '99': 1, '104': 1})\n",
      "('Blood Pressure (dia)', {'93': 129, '95': 129, '94': 124, '99': 116, '98': 113, '91': 112, '96': 109, '100': 109, '92': 108, '97': 106, '103': 103, '89': 102, '101': 101, '90': 92, '104': 81, '86': 81, '88': 80, '106': 75, '105': 73, '84': 71, '87': 70, '102': 70, '85': 65, '108': 65, '83': 63, '82': 61, '107': 61, '109': 52, '81': 43, '80': 40, '111': 37, '110': 34, '79': 33, '112': 32, '78': 32, '114': 29, '115': 24, '113': 23, '116': 21, '77': 18, '117': 15, '118': 15, '76': 15, '75': 12, '74': 9, '119': 8, '73': 7, '72': 5, '70': 4, '71': 4, '120': 3, '69': 3, '121': 2, '60': 2, '68': 2, '124': 2, '62': 1, '67': 1, '122': 1, '133': 1, '64': 1})\n"
     ]
    }
   ],
   "source": [
    "cat_data = [feat for feat in age.columns if age[feat].dtype == \"O\"]\n",
    "num_data = [feat for feat in age.columns if age[feat].dtype != \"O\"]\n",
    "\n",
    "cat_data_labels = {i : {gen: val for gen,val in zip(age[i].value_counts().keys(),age[i].value_counts())} for i in cat_data if i !='Blood Pressure (s/d)'}\n",
    "for i in cat_data_labels.items():\n",
    "    print(i)"
   ]
  },
  {
   "cell_type": "code",
   "execution_count": 147,
   "metadata": {},
   "outputs": [],
   "source": [
    "age['Gender'].replace({'Female': '0', 'Male': '1'}, inplace=True)\n",
    "age['Physical Activity Level'].replace({'High': '3','Moderate': '2','Low': '1'}, inplace=True)\n",
    "age['Smoking Status'].replace({'Never': '0', 'Former': '1', 'Current': '2'}, inplace=True)\n",
    "age[['Gender','Physical Activity Level', 'Smoking Status']] = age[['Gender','Physical Activity Level','Smoking Status']].astype(int)\n",
    "age[['Chronic Diseases','Alcohol Consumption']] = age[['Chronic Diseases','Alcohol Consumption']].fillna(value='No')\n",
    "age['Medication Use'] = age['Medication Use'].fillna(value='LessOrMayBeNo')\n",
    "age['Mental Health Status'].replace({'Poor': 1, 'Fair': 2, 'Good': 3, 'Excellent': 4},inplace=True)\n",
    "age['Education Level'].replace({np.nan:1,'High School': 2, 'Undergraduate': 3, 'Postgraduate': 4}, inplace=True)\n",
    "age['Income Level'].replace({'Medium': 2, 'Low': 1, 'High': 3}, inplace=True)"
   ]
  },
  {
   "cell_type": "code",
   "execution_count": 148,
   "metadata": {},
   "outputs": [],
   "source": [
    "age[['Mental Health Status','Education Level','Income Level','Blood Pressure (sys)','Blood Pressure (dia)']] = age[['Mental Health Status','Education Level','Income Level','Blood Pressure (sys)','Blood Pressure (dia)']].astype(int)"
   ]
  },
  {
   "cell_type": "code",
   "execution_count": 149,
   "metadata": {},
   "outputs": [],
   "source": [
    "age = age[['Gender', 'Height (cm)', 'Weight (kg)', 'Cholesterol Level (mg/dL)',\n",
    "       'BMI', 'Blood Glucose Level (mg/dL)', 'Bone Density (g/cm²)',\n",
    "       'Vision Sharpness', 'Hearing Ability (dB)', 'Physical Activity Level',\n",
    "       'Smoking Status', 'Alcohol Consumption', 'Diet', 'Chronic Diseases',\n",
    "       'Medication Use', 'Cognitive Function', 'Mental Health Status',\n",
    "       'Sleep Patterns', 'Stress Levels', 'Pollution Exposure', 'Sun Exposure',\n",
    "       'Education Level', 'Income Level', 'Blood Pressure (sys)',\n",
    "       'Blood Pressure (dia)', 'Target']]"
   ]
  },
  {
   "cell_type": "code",
   "execution_count": 150,
   "metadata": {},
   "outputs": [
    {
     "name": "stdout",
     "output_type": "stream",
     "text": [
      "<class 'pandas.core.frame.DataFrame'>\n",
      "RangeIndex: 3000 entries, 0 to 2999\n",
      "Data columns (total 26 columns):\n",
      " #   Column                       Non-Null Count  Dtype  \n",
      "---  ------                       --------------  -----  \n",
      " 0   Gender                       3000 non-null   int32  \n",
      " 1   Height (cm)                  3000 non-null   float64\n",
      " 2   Weight (kg)                  3000 non-null   float64\n",
      " 3   Cholesterol Level (mg/dL)    3000 non-null   float64\n",
      " 4   BMI                          3000 non-null   float64\n",
      " 5   Blood Glucose Level (mg/dL)  3000 non-null   float64\n",
      " 6   Bone Density (g/cm²)         3000 non-null   float64\n",
      " 7   Vision Sharpness             3000 non-null   float64\n",
      " 8   Hearing Ability (dB)         3000 non-null   float64\n",
      " 9   Physical Activity Level      3000 non-null   int32  \n",
      " 10  Smoking Status               3000 non-null   int32  \n",
      " 11  Alcohol Consumption          3000 non-null   object \n",
      " 12  Diet                         3000 non-null   object \n",
      " 13  Chronic Diseases             3000 non-null   object \n",
      " 14  Medication Use               3000 non-null   object \n",
      " 15  Cognitive Function           3000 non-null   float64\n",
      " 16  Mental Health Status         3000 non-null   int32  \n",
      " 17  Sleep Patterns               3000 non-null   object \n",
      " 18  Stress Levels                3000 non-null   float64\n",
      " 19  Pollution Exposure           3000 non-null   float64\n",
      " 20  Sun Exposure                 3000 non-null   float64\n",
      " 21  Education Level              3000 non-null   int32  \n",
      " 22  Income Level                 3000 non-null   int32  \n",
      " 23  Blood Pressure (sys)         3000 non-null   int32  \n",
      " 24  Blood Pressure (dia)         3000 non-null   int32  \n",
      " 25  Target                       3000 non-null   int64  \n",
      "dtypes: float64(12), int32(8), int64(1), object(5)\n",
      "memory usage: 515.8+ KB\n"
     ]
    }
   ],
   "source": [
    "age.info()"
   ]
  },
  {
   "cell_type": "code",
   "execution_count": 154,
   "metadata": {},
   "outputs": [],
   "source": [
    "age.to_csv('D://files/My_ML_DL_Chatbot/data/preprocessed_data/regression/HumanAgePred.csv')"
   ]
  },
  {
   "cell_type": "markdown",
   "metadata": {},
   "source": [
    "### Wine Quality Dataset"
   ]
  },
  {
   "cell_type": "code",
   "execution_count": 152,
   "metadata": {},
   "outputs": [
    {
     "ename": "SyntaxError",
     "evalue": "invalid syntax (4290392588.py, line 19)",
     "output_type": "error",
     "traceback": [
      "\u001b[1;36m  Cell \u001b[1;32mIn[152], line 19\u001b[1;36m\u001b[0m\n\u001b[1;33m    https://www.kaggle.com/datasets/yasserh/wine-quality-dataset\u001b[0m\n\u001b[1;37m          ^\u001b[0m\n\u001b[1;31mSyntaxError\u001b[0m\u001b[1;31m:\u001b[0m invalid syntax\n"
     ]
    }
   ],
   "source": [
    "iris = pd.read_csv('data\\classification\\Original data\\Breast_cancer.csv')\n",
    "iris.head()\n",
    "iris.shape\n",
    "iris.isna().values.any()\n",
    "iris.info()\n",
    "credit['type_of_loan'].unique(), credit['type_of_loan'].nunique()\n",
    "credit.rename(columns={'credit_score':'Target'}, inplace=True)\n",
    "df = iris.drop(columns='Id')\n",
    "df.duplicated().sum()\n",
    "df.drop_duplicates(inplace=True)\n",
    "\n",
    "payment_of_min_amount_mapping = {'Yes': 2,'No': 1}\n",
    "credit['payment_of_min_amount'].replace(payment_of_min_amount_mapping, inplace=True)\n",
    "credit[['credit_mix','payment_of_min_amount']] = credit[['credit_mix','payment_of_min_amount']].astype(int)\n",
    "\n",
    "credit.to_csv('D://files/My_ML_DL_Chatbot/data/preprocessed_data/regression/CreditScore.csv')\n",
    "\n",
    "\n",
    "https://www.kaggle.com/datasets/yasserh/wine-quality-dataset\n",
    "https://www.kaggle.com/datasets/yasserh/titanic-dataset"
   ]
  },
  {
   "cell_type": "code",
   "execution_count": null,
   "metadata": {},
   "outputs": [],
   "source": []
  },
  {
   "cell_type": "code",
   "execution_count": null,
   "metadata": {},
   "outputs": [],
   "source": []
  },
  {
   "cell_type": "code",
   "execution_count": null,
   "metadata": {},
   "outputs": [],
   "source": []
  },
  {
   "cell_type": "code",
   "execution_count": null,
   "metadata": {},
   "outputs": [],
   "source": []
  },
  {
   "cell_type": "code",
   "execution_count": null,
   "metadata": {},
   "outputs": [],
   "source": []
  },
  {
   "cell_type": "code",
   "execution_count": null,
   "metadata": {},
   "outputs": [],
   "source": []
  },
  {
   "cell_type": "code",
   "execution_count": null,
   "metadata": {},
   "outputs": [],
   "source": []
  },
  {
   "cell_type": "code",
   "execution_count": null,
   "metadata": {},
   "outputs": [],
   "source": []
  },
  {
   "cell_type": "code",
   "execution_count": null,
   "metadata": {},
   "outputs": [],
   "source": []
  },
  {
   "cell_type": "code",
   "execution_count": null,
   "metadata": {},
   "outputs": [],
   "source": []
  },
  {
   "cell_type": "code",
   "execution_count": null,
   "metadata": {},
   "outputs": [],
   "source": []
  },
  {
   "cell_type": "code",
   "execution_count": null,
   "metadata": {},
   "outputs": [],
   "source": []
  },
  {
   "cell_type": "markdown",
   "metadata": {},
   "source": [
    "### Human Age Dataset\n"
   ]
  },
  {
   "cell_type": "code",
   "execution_count": 178,
   "metadata": {},
   "outputs": [
    {
     "data": {
      "text/html": [
       "<div>\n",
       "<style scoped>\n",
       "    .dataframe tbody tr th:only-of-type {\n",
       "        vertical-align: middle;\n",
       "    }\n",
       "\n",
       "    .dataframe tbody tr th {\n",
       "        vertical-align: top;\n",
       "    }\n",
       "\n",
       "    .dataframe thead th {\n",
       "        text-align: right;\n",
       "    }\n",
       "</style>\n",
       "<table border=\"1\" class=\"dataframe\">\n",
       "  <thead>\n",
       "    <tr style=\"text-align: right;\">\n",
       "      <th></th>\n",
       "      <th>Gender</th>\n",
       "      <th>Height (cm)</th>\n",
       "      <th>Weight (kg)</th>\n",
       "      <th>Blood Pressure (s/d)</th>\n",
       "      <th>Cholesterol Level (mg/dL)</th>\n",
       "      <th>BMI</th>\n",
       "      <th>Blood Glucose Level (mg/dL)</th>\n",
       "      <th>Bone Density (g/cm²)</th>\n",
       "      <th>Vision Sharpness</th>\n",
       "      <th>Hearing Ability (dB)</th>\n",
       "      <th>...</th>\n",
       "      <th>Family History</th>\n",
       "      <th>Cognitive Function</th>\n",
       "      <th>Mental Health Status</th>\n",
       "      <th>Sleep Patterns</th>\n",
       "      <th>Stress Levels</th>\n",
       "      <th>Pollution Exposure</th>\n",
       "      <th>Sun Exposure</th>\n",
       "      <th>Education Level</th>\n",
       "      <th>Income Level</th>\n",
       "      <th>Age (years)</th>\n",
       "    </tr>\n",
       "  </thead>\n",
       "  <tbody>\n",
       "    <tr>\n",
       "      <th>0</th>\n",
       "      <td>Male</td>\n",
       "      <td>171.148359</td>\n",
       "      <td>86.185197</td>\n",
       "      <td>151/109</td>\n",
       "      <td>259.465814</td>\n",
       "      <td>29.423017</td>\n",
       "      <td>157.652848</td>\n",
       "      <td>0.132868</td>\n",
       "      <td>0.200000</td>\n",
       "      <td>58.786198</td>\n",
       "      <td>...</td>\n",
       "      <td>NaN</td>\n",
       "      <td>44.059172</td>\n",
       "      <td>Good</td>\n",
       "      <td>Insomnia</td>\n",
       "      <td>2.797064</td>\n",
       "      <td>5.142344</td>\n",
       "      <td>7.108975</td>\n",
       "      <td>NaN</td>\n",
       "      <td>Medium</td>\n",
       "      <td>89</td>\n",
       "    </tr>\n",
       "    <tr>\n",
       "      <th>1</th>\n",
       "      <td>Male</td>\n",
       "      <td>172.946206</td>\n",
       "      <td>79.641937</td>\n",
       "      <td>134/112</td>\n",
       "      <td>263.630292</td>\n",
       "      <td>26.626847</td>\n",
       "      <td>118.507805</td>\n",
       "      <td>0.629534</td>\n",
       "      <td>0.267312</td>\n",
       "      <td>54.635270</td>\n",
       "      <td>...</td>\n",
       "      <td>Heart Disease</td>\n",
       "      <td>45.312298</td>\n",
       "      <td>Good</td>\n",
       "      <td>Normal</td>\n",
       "      <td>9.339930</td>\n",
       "      <td>7.272720</td>\n",
       "      <td>3.918489</td>\n",
       "      <td>Undergraduate</td>\n",
       "      <td>Medium</td>\n",
       "      <td>77</td>\n",
       "    </tr>\n",
       "    <tr>\n",
       "      <th>2</th>\n",
       "      <td>Female</td>\n",
       "      <td>155.945488</td>\n",
       "      <td>49.167058</td>\n",
       "      <td>160/101</td>\n",
       "      <td>207.846206</td>\n",
       "      <td>20.217553</td>\n",
       "      <td>143.587550</td>\n",
       "      <td>0.473487</td>\n",
       "      <td>0.248667</td>\n",
       "      <td>54.564632</td>\n",
       "      <td>...</td>\n",
       "      <td>Hypertension</td>\n",
       "      <td>56.246991</td>\n",
       "      <td>Poor</td>\n",
       "      <td>Insomnia</td>\n",
       "      <td>9.234637</td>\n",
       "      <td>8.500386</td>\n",
       "      <td>5.393408</td>\n",
       "      <td>NaN</td>\n",
       "      <td>Medium</td>\n",
       "      <td>70</td>\n",
       "    </tr>\n",
       "    <tr>\n",
       "      <th>3</th>\n",
       "      <td>Female</td>\n",
       "      <td>169.078298</td>\n",
       "      <td>56.017921</td>\n",
       "      <td>133/94</td>\n",
       "      <td>253.283779</td>\n",
       "      <td>19.595270</td>\n",
       "      <td>137.448581</td>\n",
       "      <td>1.184315</td>\n",
       "      <td>0.513818</td>\n",
       "      <td>79.722963</td>\n",
       "      <td>...</td>\n",
       "      <td>Hypertension</td>\n",
       "      <td>55.196092</td>\n",
       "      <td>Poor</td>\n",
       "      <td>Insomnia</td>\n",
       "      <td>4.693446</td>\n",
       "      <td>7.555511</td>\n",
       "      <td>2.745578</td>\n",
       "      <td>NaN</td>\n",
       "      <td>Low</td>\n",
       "      <td>52</td>\n",
       "    </tr>\n",
       "    <tr>\n",
       "      <th>4</th>\n",
       "      <td>Female</td>\n",
       "      <td>163.758355</td>\n",
       "      <td>73.966304</td>\n",
       "      <td>170/106</td>\n",
       "      <td>236.119899</td>\n",
       "      <td>27.582078</td>\n",
       "      <td>145.328695</td>\n",
       "      <td>0.434562</td>\n",
       "      <td>0.306864</td>\n",
       "      <td>52.479469</td>\n",
       "      <td>...</td>\n",
       "      <td>NaN</td>\n",
       "      <td>53.023379</td>\n",
       "      <td>Good</td>\n",
       "      <td>Normal</td>\n",
       "      <td>4.038537</td>\n",
       "      <td>9.429097</td>\n",
       "      <td>3.878435</td>\n",
       "      <td>Undergraduate</td>\n",
       "      <td>High</td>\n",
       "      <td>79</td>\n",
       "    </tr>\n",
       "  </tbody>\n",
       "</table>\n",
       "<p>5 rows × 26 columns</p>\n",
       "</div>"
      ],
      "text/plain": [
       "   Gender  Height (cm)  Weight (kg) Blood Pressure (s/d)  \\\n",
       "0    Male   171.148359    86.185197              151/109   \n",
       "1    Male   172.946206    79.641937              134/112   \n",
       "2  Female   155.945488    49.167058              160/101   \n",
       "3  Female   169.078298    56.017921               133/94   \n",
       "4  Female   163.758355    73.966304              170/106   \n",
       "\n",
       "   Cholesterol Level (mg/dL)        BMI  Blood Glucose Level (mg/dL)  \\\n",
       "0                 259.465814  29.423017                   157.652848   \n",
       "1                 263.630292  26.626847                   118.507805   \n",
       "2                 207.846206  20.217553                   143.587550   \n",
       "3                 253.283779  19.595270                   137.448581   \n",
       "4                 236.119899  27.582078                   145.328695   \n",
       "\n",
       "   Bone Density (g/cm²)  Vision Sharpness  Hearing Ability (dB)  ...  \\\n",
       "0              0.132868          0.200000             58.786198  ...   \n",
       "1              0.629534          0.267312             54.635270  ...   \n",
       "2              0.473487          0.248667             54.564632  ...   \n",
       "3              1.184315          0.513818             79.722963  ...   \n",
       "4              0.434562          0.306864             52.479469  ...   \n",
       "\n",
       "  Family History Cognitive Function Mental Health Status Sleep Patterns  \\\n",
       "0            NaN          44.059172                 Good       Insomnia   \n",
       "1  Heart Disease          45.312298                 Good         Normal   \n",
       "2   Hypertension          56.246991                 Poor       Insomnia   \n",
       "3   Hypertension          55.196092                 Poor       Insomnia   \n",
       "4            NaN          53.023379                 Good         Normal   \n",
       "\n",
       "  Stress Levels Pollution Exposure Sun Exposure  Education Level Income Level  \\\n",
       "0      2.797064           5.142344     7.108975              NaN       Medium   \n",
       "1      9.339930           7.272720     3.918489    Undergraduate       Medium   \n",
       "2      9.234637           8.500386     5.393408              NaN       Medium   \n",
       "3      4.693446           7.555511     2.745578              NaN          Low   \n",
       "4      4.038537           9.429097     3.878435    Undergraduate         High   \n",
       "\n",
       "  Age (years)  \n",
       "0          89  \n",
       "1          77  \n",
       "2          70  \n",
       "3          52  \n",
       "4          79  \n",
       "\n",
       "[5 rows x 26 columns]"
      ]
     },
     "execution_count": 178,
     "metadata": {},
     "output_type": "execute_result"
    }
   ],
   "source": [
    "age = pd.read_csv('data\\classification\\Original data\\Human_age_pred\\\\train.csv')\n",
    "age.head()"
   ]
  },
  {
   "cell_type": "code",
   "execution_count": 179,
   "metadata": {},
   "outputs": [
    {
     "name": "stdout",
     "output_type": "stream",
     "text": [
      "<class 'pandas.core.frame.DataFrame'>\n",
      "RangeIndex: 3000 entries, 0 to 2999\n",
      "Data columns (total 26 columns):\n",
      " #   Column                       Non-Null Count  Dtype  \n",
      "---  ------                       --------------  -----  \n",
      " 0   Gender                       3000 non-null   object \n",
      " 1   Height (cm)                  3000 non-null   float64\n",
      " 2   Weight (kg)                  3000 non-null   float64\n",
      " 3   Blood Pressure (s/d)         3000 non-null   object \n",
      " 4   Cholesterol Level (mg/dL)    3000 non-null   float64\n",
      " 5   BMI                          3000 non-null   float64\n",
      " 6   Blood Glucose Level (mg/dL)  3000 non-null   float64\n",
      " 7   Bone Density (g/cm²)         3000 non-null   float64\n",
      " 8   Vision Sharpness             3000 non-null   float64\n",
      " 9   Hearing Ability (dB)         3000 non-null   float64\n",
      " 10  Physical Activity Level      3000 non-null   object \n",
      " 11  Smoking Status               3000 non-null   object \n",
      " 12  Alcohol Consumption          1799 non-null   object \n",
      " 13  Diet                         3000 non-null   object \n",
      " 14  Chronic Diseases             1701 non-null   object \n",
      " 15  Medication Use               1802 non-null   object \n",
      " 16  Family History               1549 non-null   object \n",
      " 17  Cognitive Function           3000 non-null   float64\n",
      " 18  Mental Health Status         3000 non-null   object \n",
      " 19  Sleep Patterns               3000 non-null   object \n",
      " 20  Stress Levels                3000 non-null   float64\n",
      " 21  Pollution Exposure           3000 non-null   float64\n",
      " 22  Sun Exposure                 3000 non-null   float64\n",
      " 23  Education Level              2373 non-null   object \n",
      " 24  Income Level                 3000 non-null   object \n",
      " 25  Age (years)                  3000 non-null   int64  \n",
      "dtypes: float64(12), int64(1), object(13)\n",
      "memory usage: 609.5+ KB\n"
     ]
    }
   ],
   "source": [
    "age.info()"
   ]
  }
 ],
 "metadata": {
  "kernelspec": {
   "display_name": ".venv",
   "language": "python",
   "name": "python3"
  },
  "language_info": {
   "codemirror_mode": {
    "name": "ipython",
    "version": 3
   },
   "file_extension": ".py",
   "mimetype": "text/x-python",
   "name": "python",
   "nbconvert_exporter": "python",
   "pygments_lexer": "ipython3",
   "version": "3.12.3"
  }
 },
 "nbformat": 4,
 "nbformat_minor": 2
}
